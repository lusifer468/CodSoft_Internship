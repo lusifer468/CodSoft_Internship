{
  "nbformat": 4,
  "nbformat_minor": 0,
  "metadata": {
    "colab": {
      "provenance": [],
      "authorship_tag": "ABX9TyMSlvtkIidww4keIsEo/IGe",
      "include_colab_link": true
    },
    "kernelspec": {
      "name": "python3",
      "display_name": "Python 3"
    },
    "language_info": {
      "name": "python"
    }
  },
  "cells": [
    {
      "cell_type": "markdown",
      "metadata": {
        "id": "view-in-github",
        "colab_type": "text"
      },
      "source": [
        "<a href=\"https://colab.research.google.com/github/lusifer468/CodSoft_Internship/blob/main/Task_1_AI_Chat_Bot_.ipynb\" target=\"_parent\"><img src=\"https://colab.research.google.com/assets/colab-badge.svg\" alt=\"Open In Colab\"/></a>"
      ]
    },
    {
      "cell_type": "code",
      "execution_count": null,
      "metadata": {
        "id": "z7CPEjBSiy0b"
      },
      "outputs": [],
      "source": [
        "import re\n",
        "\n",
        "def simple_chatbot(user_input):\n",
        "    # Define patterns and corresponding responses\n",
        "    patterns_and_responses = [\n",
        "        (r\"(hello|hi|hey)\", \"Hello! How can I help you?\"),\n",
        "        (r\"what is your name\", \"I'm a simple chatbot.\"),\n",
        "        (r\"how are you\", \"I'm just a computer program, but thanks for asking!\"),\n",
        "        (r\"bye|goodbye\", \"Goodbye! Have a great day.\"),\n",
        "        # Add more patterns and responses as needed\n",
        "    ]\n",
        "\n",
        "    # Check each pattern and return the corresponding response\n",
        "    for pattern, response in patterns_and_responses:\n",
        "        if re.search(pattern, user_input, re.IGNORECASE):\n",
        "            return response\n",
        "\n",
        "    # If no pattern matches, provide a default response\n",
        "    return \"I'm sorry, I didn't understand that. Can you please rephrase?\"\n",
        "\n",
        "# Simple interactive loop for testing the chatbot\n",
        "print(\"Simple Chatbot: Hello! Type 'bye' to exit.\")\n",
        "while True:\n",
        "    user_input = input(\"You: \")\n",
        "    if user_input.lower() == 'bye':\n",
        "        print(\"Simple Chatbot: Goodbye! Have a great day.\")\n",
        "        break\n",
        "    response = simple_chatbot(user_input)\n",
        "    print(\"Simple Chatbot:\", response)\n"
      ]
    }
  ]
}